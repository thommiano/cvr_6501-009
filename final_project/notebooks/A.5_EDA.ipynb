{
 "cells": [
  {
   "cell_type": "code",
   "execution_count": 1,
   "metadata": {},
   "outputs": [],
   "source": [
    "import matplotlib\n",
    "import matplotlib.pyplot as plt\n",
    "%matplotlib inline\n",
    "\n",
    "import os\n",
    "import time\n",
    "\n",
    "import torch\n",
    "from torch.autograd import Variable\n",
    "\n",
    "import librosa\n",
    "import librosa.display\n",
    "import numpy as np\n",
    "\n",
    "import sys, inspect\n",
    "sys.path.append(\"/audio\")\n",
    "# Use this if you want to include modules from a subfolder\n",
    "# cmd_subfolder = os.path.realpath(os.path.abspath(os.path.join(os.path.split(inspect.getfile( inspect.currentframe() ))[0],\"../../../audio/\")))\n",
    "# if cmd_subfolder not in sys.path:\n",
    "#     sys.path.insert(0, cmd_subfolder)\n",
    "    \n",
    "import torchaudio\n",
    "\n",
    "from PIL import Image"
   ]
  },
  {
   "cell_type": "markdown",
   "metadata": {},
   "source": [
    "# Analysis of sound lengths by class"
   ]
  },
  {
   "cell_type": "code",
   "execution_count": 18,
   "metadata": {},
   "outputs": [
    {
     "name": "stdout",
     "output_type": "stream",
     "text": [
      "air_conditioner\n",
      "car_horn\n",
      "children_playing\n",
      "dog_bark\n",
      "drilling\n",
      "gun_shot\n",
      "jack_hammer\n",
      "siren\n",
      "street_music\n",
      "engine_idling\n",
      "1.9357112367947897\n"
     ]
    }
   ],
   "source": [
    "src_path = \"/data/datasets/sound_datasets/pytorch_UrbanSound8K/audio/trainset/\"\n",
    "\n",
    "t0 = time.time()\n",
    "\n",
    "duration_log={}\n",
    "\n",
    "for root, dirs, _ in os.walk(src_path):  \n",
    "    for class_dir in dirs:\n",
    "        \n",
    "        print(class_dir)\n",
    "        files = os.listdir(os.path.join(src_path, class_dir))\n",
    "        #counter = 0\n",
    "        \n",
    "        # initialize new class in duration_log\n",
    "        duration_log[class_dir] = []\n",
    "        \n",
    "        for file in files:\n",
    "            #counter += 1\n",
    "\n",
    "            sound_in = os.path.join(src_path,class_dir,file)\n",
    "            \n",
    "            # Saving duration\n",
    "            sound_tensor, sr = torchaudio.load(sound_in)\n",
    "            duration = librosa.core.get_duration(sound_tensor.numpy()[:,0], sr=sr)\n",
    "            duration_log[class_dir].append(duration)\n",
    "            \n",
    "            #if not counter % 100: print(counter)\n",
    "            \n",
    "tn = time.time()\n",
    "tt = tn-t0\n",
    "print(tt/60)"
   ]
  },
  {
   "cell_type": "code",
   "execution_count": 2,
   "metadata": {},
   "outputs": [],
   "source": [
    "class_colors = {\"gun_shot\":\"#b00036\",\n",
    "                \"street_music\":\"#ff8765\",\n",
    "                \"siren\":\"#c35d03\",\n",
    "                \"dog_bark\":\"#c2c331\",\n",
    "                \"engine_idling\":\"#007008\",\n",
    "                \"car_horn\":\"#00a069\",\n",
    "                \"drilling\":\"#00b4f5\",\n",
    "                \"air_conditioner\":\"#0164cd\",\n",
    "                \"jack_hammer\":\"#bfa2ff\",\n",
    "                \"children_playing\":\"#e44caa\"\n",
    "               }\n",
    "\n",
    "def generate_histograms(input_dict,color_key):\n",
    "    \n",
    "    for key in input_dict.keys():\n",
    "        \n",
    "        plt.figure(figsize=(8, 6), dpi=400) # to create a new fig for each loop\n",
    "        plt.hist(input_dict[key],color=color_key[key])\n",
    "        \n",
    "        n_obs = len(input_dict[key])\n",
    "        title_class = key.replace('_',' ').title()\n",
    "        plt.title(' '.join([title_class,\"excerpt lengths\",\"(n=\" + str(n_obs) + \")\"]))\n",
    "        plt.ylabel(\"Number of observations\")\n",
    "        plt.xlabel(\"Length of excerpt in seconds\")\n",
    "        plt.tight_layout()\n",
    "        savefig_name = ''.join([\"./manuscript/figures/\",key,'.png'])\n",
    "        plt.savefig(savefig_name)\n",
    "        plt.close()"
   ]
  },
  {
   "cell_type": "code",
   "execution_count": 46,
   "metadata": {},
   "outputs": [],
   "source": [
    "generate_histograms(duration_log,class_colors)"
   ]
  },
  {
   "cell_type": "markdown",
   "metadata": {},
   "source": [
    "# Image averages"
   ]
  },
  {
   "cell_type": "code",
   "execution_count": 3,
   "metadata": {},
   "outputs": [],
   "source": [
    "def dir_avg(src_path):\n",
    "    '''Generate the average image given a directory of images.'''\n",
    "    \n",
    "    # Access all PNG files in directory\n",
    "    allfiles=os.listdir(src_path)\n",
    "    imlist=[filename for filename in allfiles if  filename[-4:] in [\".jpg\",\".JPG\"]]\n",
    "    \n",
    "    # Assuming all images are the same size, get dimensions of first image\n",
    "    img_open = ''.join([src_path,imlist[0]])\n",
    "    w,h=Image.open(img_open).size\n",
    "    N=len(imlist)\n",
    "    \n",
    "    # Create a numpy array of floats to store the average (assume RGB images)\n",
    "    arr=np.zeros((h,w,3),np.float)\n",
    "    \n",
    "    # Build up average pixel intensities, casting each image as an array of floats\n",
    "    for im in imlist:\n",
    "        img_open = ''.join([src_path,im])\n",
    "        imarr=np.array(Image.open(img_open),dtype=np.float)\n",
    "        arr=arr+imarr/N\n",
    "    \n",
    "    # Round values in array and cast as 8-bit integer\n",
    "    arr=np.array(np.round(arr),dtype=np.uint8)\n",
    "    \n",
    "    return arr"
   ]
  },
  {
   "cell_type": "code",
   "execution_count": 6,
   "metadata": {},
   "outputs": [],
   "source": [
    "for target_class in list(class_colors.keys()):\n",
    "    \n",
    "    src_path = \"/data/datasets/sound_datasets/pytorch_UrbanSound8K/image_80tr10va10te/trainset/\" + target_class + \"/\"\n",
    "    avg_img = dir_avg(src_path)\n",
    "    avg_n = len([name for name in os.listdir(src_path)])\n",
    "\n",
    "    plt.figure(figsize=(8, 6), dpi=400)\n",
    "    plt.imshow(avg_img)\n",
    "    title_class = target_class.replace('_',' ').title()\n",
    "    plt.title(title_class+\" average spectrogram\"+\" (n=\"+str(avg_n)+\")\")\n",
    "    plt.ylabel(\"Frequency (Hz)\")\n",
    "    plt.yticks([])\n",
    "    plt.xlabel(\"Time\")\n",
    "    plt.xticks([])\n",
    "    plt.tight_layout()\n",
    "\n",
    "    savefig_name = ''.join([\"./manuscript/figures/\",target_class,'_train_avg.png'])\n",
    "    plt.savefig(savefig_name)\n",
    "    plt.close()"
   ]
  },
  {
   "cell_type": "code",
   "execution_count": null,
   "metadata": {},
   "outputs": [],
   "source": []
  }
 ],
 "metadata": {
  "kernelspec": {
   "display_name": "Python 3",
   "language": "python",
   "name": "python3"
  },
  "language_info": {
   "codemirror_mode": {
    "name": "ipython",
    "version": 3
   },
   "file_extension": ".py",
   "mimetype": "text/x-python",
   "name": "python",
   "nbconvert_exporter": "python",
   "pygments_lexer": "ipython3",
   "version": "3.5.2"
  }
 },
 "nbformat": 4,
 "nbformat_minor": 2
}
