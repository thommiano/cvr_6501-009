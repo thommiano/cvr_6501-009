{
 "cells": [
  {
   "cell_type": "code",
   "execution_count": null,
   "metadata": {},
   "outputs": [],
   "source": [
    "import sounddevice as sd\n",
    "import numpy as np\n",
    "import scipy.io.wavfile as wav\n",
    "\n",
    "import matplotlib\n",
    "matplotlib.use('Agg')\n",
    "import matplotlib.pyplot as plt\n",
    "\n",
    "import librosa, librosa.display"
   ]
  },
  {
   "cell_type": "code",
   "execution_count": null,
   "metadata": {},
   "outputs": [],
   "source": [
    "def generate_spectrogram(sound_in, sr,img_out):\n",
    "    \n",
    "    y = sound_in\n",
    "    S = librosa.feature.melspectrogram(y=y, sr=sr)\n",
    "\n",
    "    plt.ioff()\n",
    "    librosa.display.specshow(librosa.power_to_db(S,ref=np.max))\n",
    "    plt.axis('off') # Removes black border\n",
    "    plt.tight_layout()\n",
    "    plt.savefig(img_out,bbox_inches='tight',pad_inches=-0.05,transparency=True, format='jpg')\n",
    "    #plt.clf() # clear figure to control memory problems\n",
    "    #plt.close()\n",
    "    \n",
    "    del S,y,sr"
   ]
  },
  {
   "cell_type": "markdown",
   "metadata": {},
   "source": [
    "# Generate content"
   ]
  },
  {
   "cell_type": "code",
   "execution_count": null,
   "metadata": {},
   "outputs": [],
   "source": [
    "wav_out = \"/Users/tmiano/Documents/Projects/cvr/me_drilling-sound_171128.wav\"\n",
    "img_out = \"/Users/tmiano/Documents/Projects/cvr/me_drilling-sound_171128.jpg\""
   ]
  },
  {
   "cell_type": "code",
   "execution_count": null,
   "metadata": {},
   "outputs": [],
   "source": [
    "sr=44100\n",
    "duration = 4  # seconds\n",
    "mic_recording = sd.rec(duration * sr, samplerate=sr, channels=2,dtype='float64')\n",
    "print(\"Recording Audio\")\n",
    "sd.wait()\n",
    "print(\"Audio recording complete , Play Audio\")\n",
    "sd.play(mic_recording, sr)\n",
    "sd.wait()\n",
    "print(\"Play Audio Complete\")\n",
    "wav.write(wav_out,sr,mic_recording)\n",
    "print(\"Audio written.\")"
   ]
  },
  {
   "cell_type": "code",
   "execution_count": null,
   "metadata": {},
   "outputs": [],
   "source": [
    "generate_spectrogram(mic_recording[:,0],sr,img_out)"
   ]
  },
  {
   "cell_type": "markdown",
   "metadata": {},
   "source": [
    "# Review recordings"
   ]
  },
  {
   "cell_type": "code",
   "execution_count": null,
   "metadata": {},
   "outputs": [],
   "source": [
    "wav_out = \"/Users/tmiano/Documents/Projects/cvr/me_barking_171128.wav\"\n",
    "sr, myrecording = wav.read(wav_out)"
   ]
  }
 ],
 "metadata": {
  "kernelspec": {
   "display_name": "Python 3",
   "language": "python",
   "name": "python3"
  },
  "language_info": {
   "codemirror_mode": {
    "name": "ipython",
    "version": 3
   },
   "file_extension": ".py",
   "mimetype": "text/x-python",
   "name": "python",
   "nbconvert_exporter": "python",
   "pygments_lexer": "ipython3",
   "version": "3.5.2"
  }
 },
 "nbformat": 4,
 "nbformat_minor": 2
}
