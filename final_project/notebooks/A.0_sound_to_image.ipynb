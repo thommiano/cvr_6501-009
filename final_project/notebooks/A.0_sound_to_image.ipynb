{
 "cells": [
  {
   "cell_type": "code",
   "execution_count": 32,
   "metadata": {},
   "outputs": [],
   "source": [
    "import sounddevice as sd\n",
    "import numpy as np\n",
    "import scipy.io.wavfile as wav\n",
    "\n",
    "import matplotlib\n",
    "# matplotlib.use('GTKAgg')\n",
    "import matplotlib.pyplot as plt\n",
    "%matplotlib inline\n",
    "\n",
    "import librosa, librosa.display\n",
    "\n",
    "import time, operator\n",
    "# import pylab as pl\n",
    "from IPython import display\n",
    "\n",
    "from io import BytesIO\n",
    "from PIL import Image\n",
    "\n",
    "import torch\n",
    "import torchvision.models as models\n",
    "import torch.nn as nn\n",
    "from torch.autograd import Variable\n",
    "import torchvision.transforms as transforms\n",
    "import torch.nn.functional as F\n",
    "import torchvision.datasets as dset\n",
    "\n",
    "from deepdream import util as ddutil\n",
    "from deepdream import resnet as ddresnet\n",
    "from deepdream.deepdream import dream"
   ]
  },
  {
   "cell_type": "code",
   "execution_count": 33,
   "metadata": {},
   "outputs": [],
   "source": [
    "def objective_guide(dst, guide_features):\n",
    "    x = dst.data[0].cpu().numpy().copy()\n",
    "    y = guide_features.data[0].cpu().numpy()\n",
    "    ch, w, h = x.shape\n",
    "    x = x.reshape(ch,-1)      # (c，w*h)\n",
    "    y = y.reshape(ch,-1)      # (c, w*h)\n",
    "    A = x.T.dot(y) # compute the matrix of dot-products with guide features\n",
    "    result = y[:,A.argmax(1)] # select ones that match best\n",
    "    result = torch.Tensor(np.array([result.reshape(ch, w, h)], dtype=np.float))\n",
    "    return result"
   ]
  },
  {
   "cell_type": "code",
   "execution_count": 34,
   "metadata": {},
   "outputs": [],
   "source": [
    "def stream_spectrogram(sound_in, sr):\n",
    "    \n",
    "    y = sound_in\n",
    "    S = librosa.feature.melspectrogram(y=y, sr=sr)\n",
    "    buffer_ = BytesIO()\n",
    "    \n",
    "    plt.ioff()\n",
    "    librosa.display.specshow(librosa.power_to_db(S,ref=np.max))\n",
    "    plt.axis('off') # Removes black border\n",
    "    plt.tight_layout()\n",
    "    plt.savefig(buffer_,bbox_inches='tight',pad_inches=-0.05,transparency=True, format='jpg')\n",
    "    image = Image.open(buffer_)\n",
    "    plt.close()\n",
    "    buffer_.seek(0)\n",
    "    #ar = np.asarray(image)\n",
    "    return image\n",
    "    buffer_.close()"
   ]
  },
  {
   "cell_type": "code",
   "execution_count": 35,
   "metadata": {},
   "outputs": [],
   "source": [
    "def classify_sound(image,resnet):\n",
    "    \n",
    "    resnet.eval()\n",
    "    predictions = {}\n",
    "    # Try your own image here.\n",
    "    inputVar =  Variable(transform(image).unsqueeze(0))\n",
    "    predictions = resnet(inputVar.cpu())\n",
    "\n",
    "    probs, indices = (-F.softmax(predictions.cpu())).data.sort()\n",
    "    probs = (-probs).numpy()[0][:10]; indices = indices.numpy()[0][:10]\n",
    "    preds = {class_dict[idx]:prob for (prob, idx) in zip(probs,indices)}\n",
    "    preds = sorted(preds.items(), key=operator.itemgetter(1), reverse=True)\n",
    "    \n",
    "    #preds = [class_dict[idx] + ': ' + str(prob) for (prob, idx) in zip(probs, indices)]\n",
    "    #print(preds)\n",
    "    #plt.title('\\n'.join(preds))\n",
    "    #plt.imshow(image);\n",
    "    return preds"
   ]
  },
  {
   "cell_type": "code",
   "execution_count": 36,
   "metadata": {},
   "outputs": [
    {
     "name": "stdout",
     "output_type": "stream",
     "text": [
      "Linear (2048 -> 1000)\n",
      "Linear (2048 -> 10)\n"
     ]
    }
   ],
   "source": [
    "resnet = models.resnet50(pretrained = True)\n",
    "print(resnet.fc)\n",
    "resnet.fc = nn.Linear(resnet.fc.in_features, 10)\n",
    "print(resnet.fc)"
   ]
  },
  {
   "cell_type": "code",
   "execution_count": 37,
   "metadata": {},
   "outputs": [],
   "source": [
    "resnet.load_state_dict(torch.load('../../../data/resnet50_v2_melspect_15_968.pt',\n",
    "                                         map_location=lambda storage, \n",
    "                                         loc: storage\n",
    "                                        )\n",
    "                             )\n",
    "\n",
    "transform = transforms.Compose([transforms.Scale((224,224)),transforms.ToTensor()])"
   ]
  },
  {
   "cell_type": "code",
   "execution_count": 38,
   "metadata": {},
   "outputs": [],
   "source": [
    "class_dict = {0: 'air_conditioner',\n",
    " 1: 'car_horn',\n",
    " 2: 'children_playing',\n",
    " 3: 'dog_bark',\n",
    " 4: 'drilling',\n",
    " 5: 'engine_idling',\n",
    " 6: 'gun_shot',\n",
    " 7: 'jack_hammer',\n",
    " 8: 'siren',\n",
    " 9: 'street_music'}"
   ]
  },
  {
   "cell_type": "code",
   "execution_count": 39,
   "metadata": {},
   "outputs": [],
   "source": [
    "# base_dream_path = './deepdream/data/target/'\n",
    "class_img_path = './deepdream/data/base/render_classes/'\n",
    "img_id = 0\n",
    "\n",
    "# transform = transforms.Compose([\n",
    "#     transforms.ToTensor(),\n",
    "#     transforms.Normalize([0.485, 0.456, 0.406], [0.229, 0.224, 0.225])\n",
    "#     ])\n",
    "\n",
    "dream_transform = transforms.Compose([\n",
    "    transforms.Scale((300)),\n",
    "    transforms.CenterCrop(224),\n",
    "    transforms.Scale((400)),\n",
    "    transforms.ToTensor(),\n",
    "    transforms.Normalize([0.485, 0.456, 0.406], [0.229, 0.224, 0.225])\n",
    "    ])\n",
    "\n",
    "dream_set = dset.ImageFolder(class_img_path,transform=dream_transform)\n",
    "\n",
    "dset_loader = torch.utils.data.DataLoader(dream_set, batch_size=1)\n",
    "deepdream_img_dict = dset_loader.dataset.class_to_idx"
   ]
  },
  {
   "cell_type": "code",
   "execution_count": 40,
   "metadata": {},
   "outputs": [
    {
     "data": {
      "image/jpeg": "[encoded data removed]",
      "text/plain": [
       "<IPython.core.display.Image object>"
      ]
     },
     "metadata": {},
     "output_type": "display_data"
    }
   ],
   "source": [
    "# t0 = time.time()\n",
    "return_img = 'street_music'\n",
    "\n",
    "dd_idx = deepdream_img_dict[return_img]\n",
    "inputs = dset_loader.dataset[dd_idx][0].unsqueeze(0)\n",
    "input_np = inputs.numpy()\n",
    "\n",
    "ddutil.showtensor(input_np)\n",
    "\n",
    "# tn = time.time()\n",
    "# print(tn-t0)"
   ]
  },
  {
   "cell_type": "code",
   "execution_count": 41,
   "metadata": {},
   "outputs": [],
   "source": [
    "# os.environ['CUDA_VISIBLE_DEVICES'] = '0, 1'\n",
    "\n",
    "# load the model\n",
    "dream_model = ddresnet.resnet50(pretrained=True)\n",
    "dream_model.cpu()\n",
    "# model = torch.nn.DataParallel(model, device_ids=[0, 1])\n",
    "for param in dream_model.parameters():\n",
    "    param.require_grads = False"
   ]
  },
  {
   "cell_type": "code",
   "execution_count": 42,
   "metadata": {},
   "outputs": [],
   "source": [
    "class_colors = {\"air_conditioner\":\"#0164cd\",\n",
    "                \"car_horn\":\"#00a069\",\n",
    "                \"children_playing\":\"#e44caa\",\n",
    "                \"dog_bark\":\"#c2c331\",\n",
    "                \"drilling\":\"#00b4f5\",\n",
    "                \"engine_idling\":\"#007008\",\n",
    "                \"gun_shot\":\"#b00036\",\n",
    "                \"jack_hammer\":\"#bfa2ff\",\n",
    "                \"siren\":\"#c35d03\",\n",
    "                \"street_music\":\"#ff8765\"\n",
    "               }"
   ]
  },
  {
   "cell_type": "code",
   "execution_count": 43,
   "metadata": {},
   "outputs": [
    {
     "data": {
      "image/png": "[encoded data removed]",
      "text/plain": [
       "<matplotlib.figure.Figure at 0x11b7794a8>"
      ]
     },
     "metadata": {},
     "output_type": "display_data"
    }
   ],
   "source": [
    "duration = 1\n",
    "sr=44100\n",
    "\n",
    "plot_predictions = True\n",
    "display_spect = False\n",
    "use_deepdream = False\n",
    "deep_spect = False\n",
    "fractal = False\n",
    "\n",
    "# Deepdream parameters\n",
    "octaves = 7\n",
    "iterations = 1\n",
    "use_gpu = False\n",
    "jitter = 1000\n",
    "sample_resolution = 1\n",
    "f_layer = 1\n",
    "lr=0.3\n",
    "\n",
    "while True:\n",
    "# for i in range(10):\n",
    "    try:\n",
    "        display.clear_output(wait=True)\n",
    "        \n",
    "        mic_recording = sd.rec(int(duration * sr), samplerate=sr, channels=2,dtype='float64')\n",
    "        sd.wait()\n",
    "        spect = stream_spectrogram(mic_recording[:,0],sr)\n",
    "        preds = classify_sound(spect,resnet)\n",
    "        \n",
    "        # Select image\n",
    "        return_img = preds[0][0]\n",
    "        dd_idx = deepdream_img_dict[return_img]\n",
    "        input_np = dset_loader.dataset[dd_idx][0].unsqueeze(0).numpy()\n",
    "        inputs_guide = dset_loader.dataset[dd_idx][0].unsqueeze(0)\n",
    "\n",
    "        \n",
    "        # Deep Dream\n",
    "        if fractal:\n",
    "            lr = float(preds[0][1])\n",
    "            X_Variable = Variable(inputs_guide.cpu())\n",
    "            guide_features = dream_model.forward(X_Variable, n_layer=3)\n",
    "        if use_deepdream:\n",
    "            if deep_spect: input_np = transform(spect).unsqueeze(0).numpy()\n",
    "            dream(dream_model, input_np, octave_n=octaves, num_iterations=iterations, \n",
    "                  lr=lr, max_jitter=jitter, show_every=sample_resolution,end_layer=f_layer,\n",
    "                  use_gpu=use_gpu,stream_out=True, \n",
    "                  objective=objective_guide, guide_features=guide_features\n",
    "                 )\n",
    "            \n",
    "        if plot_predictions:\n",
    "            fig, ax = plt.subplots(figsize=(6,4),dpi=100)\n",
    "            vals = [preds[p][1] for p in range(0, len(preds))]\n",
    "            labls = [preds[p][0].replace('_',' ').title() for p in range(0, len(preds))]\n",
    "            colors = [class_colors[preds[p][0]] for p in range(0, len(preds))]\n",
    "            ax.barh(labls,vals,align='center',color=colors)\n",
    "            ax.invert_yaxis()\n",
    "            ax.set_xlabel('Probability')\n",
    "            ax.set_title('Predicted class')\n",
    "            ax.set_xticks(np.arange(0, 1.1, 0.1))\n",
    "            plt.show()\n",
    "            plt.clf()\n",
    "            plt.cla()\n",
    "            plt.close()\n",
    "        \n",
    "        #display.display(preds)\n",
    "        if display_spect:\n",
    "            display.display(spect)\n",
    "        \n",
    "        time.sleep(.0001)\n",
    "    except KeyboardInterrupt:\n",
    "        break\n",
    "        \n",
    "# tn = time.time()\n",
    "# print(tn-t0)"
   ]
  },
  {
   "cell_type": "code",
   "execution_count": null,
   "metadata": {},
   "outputs": [],
   "source": []
  }
 ],
 "metadata": {
  "kernelspec": {
   "display_name": "Python 3",
   "language": "python",
   "name": "python3"
  },
  "language_info": {
   "codemirror_mode": {
    "name": "ipython",
    "version": 3
   },
   "file_extension": ".py",
   "mimetype": "text/x-python",
   "name": "python",
   "nbconvert_exporter": "python",
   "pygments_lexer": "ipython3",
   "version": "3.6.3"
  }
 },
 "nbformat": 4,
 "nbformat_minor": 2
}
