{
 "cells": [
  {
   "cell_type": "code",
   "execution_count": 13,
   "metadata": {},
   "outputs": [
    {
     "name": "stdout",
     "output_type": "stream",
     "text": [
      "Collecting piglet\n",
      "  Downloading piglet-0.4.4.tar.gz (52kB)\n",
      "\u001b[K    100% |################################| 61kB 2.4MB/s ta 0:00:011\n",
      "\u001b[?25hCollecting Parsley (from piglet)\n",
      "  Downloading Parsley-1.3-py2.py3-none-any.whl (88kB)\n",
      "\u001b[K    100% |################################| 92kB 381kB/s ta 0:00:011\n",
      "\u001b[?25hCollecting attrs (from piglet)\n",
      "  Downloading attrs-17.3.0-py2.py3-none-any.whl\n",
      "Collecting astunparse (from piglet)\n",
      "  Downloading astunparse-1.5.0-py2.py3-none-any.whl\n",
      "Requirement already satisfied: markupsafe in /usr/local/lib/python3.5/dist-packages (from piglet)\n",
      "Requirement already satisfied: six<2.0,>=1.6.1 in /usr/local/lib/python3.5/dist-packages (from astunparse->piglet)\n",
      "Requirement already satisfied: wheel<1.0,>=0.23.0 in /usr/local/lib/python3.5/dist-packages (from astunparse->piglet)\n",
      "Building wheels for collected packages: piglet\n",
      "  Running setup.py bdist_wheel for piglet ... \u001b[?25ldone\n",
      "\u001b[?25h  Stored in directory: /root/.cache/pip/wheels/54/80/3e/61965b7318f668870ee01c0a270e1c04929b51252e4503f069\n",
      "Successfully built piglet\n",
      "Installing collected packages: Parsley, attrs, astunparse, piglet\n",
      "Successfully installed Parsley-1.3 astunparse-1.5.0 attrs-17.3.0 piglet-0.4.4\n"
     ]
    }
   ],
   "source": [
    "!pip install piglet"
   ]
  },
  {
   "cell_type": "code",
   "execution_count": 11,
   "metadata": {},
   "outputs": [
    {
     "name": "stdout",
     "output_type": "stream",
     "text": [
      "Requirement already satisfied: numpy in /usr/local/lib/python3.5/dist-packages\n",
      "Requirement already satisfied: cython in /usr/local/lib/python3.5/dist-packages\n",
      "Requirement already satisfied: pyopengl in /usr/local/lib/python3.5/dist-packages\n",
      "Requirement already satisfied: triangle in /usr/local/lib/python3.5/dist-packages\n",
      "Requirement already satisfied: numpy>=1.11 in /usr/local/lib/python3.5/dist-packages (from triangle)\n",
      "Requirement already satisfied: Cython>=0.24 in /usr/local/lib/python3.5/dist-packages (from triangle)\n"
     ]
    }
   ],
   "source": [
    "!pip install numpy\n",
    "!pip install cython\n",
    "!pip install pyopengl\n",
    "!pip install triangle"
   ]
  },
  {
   "cell_type": "code",
   "execution_count": 12,
   "metadata": {},
   "outputs": [
    {
     "name": "stdout",
     "output_type": "stream",
     "text": [
      "Requirement already up-to-date: numpy in /usr/local/lib/python3.5/dist-packages\n",
      "Requirement already up-to-date: pyopengl in /usr/local/lib/python3.5/dist-packages\n",
      "Requirement already up-to-date: cython in /usr/local/lib/python3.5/dist-packages\n",
      "Requirement already up-to-date: triangle in /usr/local/lib/python3.5/dist-packages\n",
      "Requirement already up-to-date: Cython>=0.24 in /usr/local/lib/python3.5/dist-packages (from triangle)\n",
      "Requirement already up-to-date: numpy>=1.11 in /usr/local/lib/python3.5/dist-packages (from triangle)\n"
     ]
    }
   ],
   "source": [
    "!pip install --upgrade numpy\n",
    "!pip install --upgrade pyopengl\n",
    "!pip install --upgrade cython\n",
    "!pip install --upgrade triangle"
   ]
  },
  {
   "cell_type": "code",
   "execution_count": 3,
   "metadata": {},
   "outputs": [
    {
     "name": "stdout",
     "output_type": "stream",
     "text": [
      "Collecting Cython\n",
      "  Downloading Cython-0.27.3-cp35-cp35m-manylinux1_x86_64.whl (3.0MB)\n",
      "\u001b[K    100% |################################| 3.0MB 480kB/s ta 0:00:011    90% |#############################   | 2.7MB 9.7MB/s eta 0:00:01\n",
      "\u001b[?25hInstalling collected packages: Cython\n",
      "Successfully installed Cython-0.27.3\n",
      "Collecting glumpy\n",
      "  Using cached glumpy-1.0.6.tar.gz\n",
      "Requirement already satisfied: numpy in /usr/local/lib/python3.5/dist-packages (from glumpy)\n",
      "Collecting triangle (from glumpy)\n",
      "  Downloading triangle-20170429.tar.gz (1.4MB)\n",
      "\u001b[K    100% |################################| 1.4MB 684kB/s ta 0:00:011\n",
      "\u001b[?25hRequirement already satisfied: cython in /usr/local/lib/python3.5/dist-packages (from glumpy)\n",
      "Building wheels for collected packages: glumpy, triangle\n",
      "  Running setup.py bdist_wheel for glumpy ... \u001b[?25ldone\n",
      "\u001b[?25h  Stored in directory: /root/.cache/pip/wheels/f1/c5/75/f3d93393196db660434532a885d7663c1553e3fc7312ba185f\n",
      "  Running setup.py bdist_wheel for triangle ... \u001b[?25ldone\n",
      "\u001b[?25h  Stored in directory: /root/.cache/pip/wheels/52/cc/0b/0e66ce5a2386d1dd3bab121fbb32f12894f7059116e113fec9\n",
      "Successfully built glumpy triangle\n",
      "Installing collected packages: triangle, glumpy\n",
      "Successfully installed glumpy-1.0.6 triangle-20170429\n"
     ]
    }
   ],
   "source": [
    "!pip install Cython\n",
    "!pip install glumpy"
   ]
  },
  {
   "cell_type": "code",
   "execution_count": 6,
   "metadata": {},
   "outputs": [
    {
     "name": "stdout",
     "output_type": "stream",
     "text": [
      "Collecting pyopengl\n",
      "  Downloading PyOpenGL-3.1.0.tar.gz (1.2MB)\n",
      "\u001b[K    100% |################################| 1.2MB 766kB/s eta 0:00:01\n",
      "\u001b[?25hBuilding wheels for collected packages: pyopengl\n",
      "  Running setup.py bdist_wheel for pyopengl ... \u001b[?25ldone\n",
      "\u001b[?25h  Stored in directory: /root/.cache/pip/wheels/1c/17/50/f69d63e0a8169fb890f5a167817a73391be85d30e86fd29504\n",
      "Successfully built pyopengl\n",
      "Installing collected packages: pyopengl\n",
      "Successfully installed pyopengl-3.1.0\n"
     ]
    }
   ],
   "source": [
    "!pip install pyopengl"
   ]
  },
  {
   "cell_type": "code",
   "execution_count": 9,
   "metadata": {},
   "outputs": [],
   "source": [
    "import OpenGL as gl"
   ]
  },
  {
   "cell_type": "code",
   "execution_count": 14,
   "metadata": {},
   "outputs": [
    {
     "ename": "ImportError",
     "evalue": "('Unable to load OpenGL library', 'GL: cannot open shared object file: No such file or directory', 'GL', None)",
     "output_type": "error",
     "traceback": [
      "\u001b[0;31m---------------------------------------------------------------------------\u001b[0m",
      "\u001b[0;31mOSError\u001b[0m                                   Traceback (most recent call last)",
      "\u001b[0;32m/usr/local/lib/python3.5/dist-packages/OpenGL/platform/glx.py\u001b[0m in \u001b[0;36mGL\u001b[0;34m(self)\u001b[0m\n\u001b[1;32m     16\u001b[0m                 \u001b[0;34m'GL'\u001b[0m\u001b[0;34m,\u001b[0m\u001b[0;34m\u001b[0m\u001b[0m\n\u001b[0;32m---> 17\u001b[0;31m                 \u001b[0mmode\u001b[0m\u001b[0;34m=\u001b[0m\u001b[0mctypes\u001b[0m\u001b[0;34m.\u001b[0m\u001b[0mRTLD_GLOBAL\u001b[0m\u001b[0;34m\u001b[0m\u001b[0m\n\u001b[0m\u001b[1;32m     18\u001b[0m             ) \n",
      "\u001b[0;32m/usr/local/lib/python3.5/dist-packages/OpenGL/platform/ctypesloader.py\u001b[0m in \u001b[0;36mloadLibrary\u001b[0;34m(dllType, name, mode)\u001b[0m\n\u001b[1;32m     44\u001b[0m     \u001b[0;32mtry\u001b[0m\u001b[0;34m:\u001b[0m\u001b[0;34m\u001b[0m\u001b[0m\n\u001b[0;32m---> 45\u001b[0;31m         \u001b[0;32mreturn\u001b[0m \u001b[0mdllType\u001b[0m\u001b[0;34m(\u001b[0m \u001b[0mname\u001b[0m\u001b[0;34m,\u001b[0m \u001b[0mmode\u001b[0m \u001b[0;34m)\u001b[0m\u001b[0;34m\u001b[0m\u001b[0m\n\u001b[0m\u001b[1;32m     46\u001b[0m     \u001b[0;32mexcept\u001b[0m \u001b[0mException\u001b[0m \u001b[0;32mas\u001b[0m \u001b[0merr\u001b[0m\u001b[0;34m:\u001b[0m\u001b[0;34m\u001b[0m\u001b[0m\n",
      "\u001b[0;32m/usr/lib/python3.5/ctypes/__init__.py\u001b[0m in \u001b[0;36m__init__\u001b[0;34m(self, name, mode, handle, use_errno, use_last_error)\u001b[0m\n\u001b[1;32m    346\u001b[0m         \u001b[0;32mif\u001b[0m \u001b[0mhandle\u001b[0m \u001b[0;32mis\u001b[0m \u001b[0;32mNone\u001b[0m\u001b[0;34m:\u001b[0m\u001b[0;34m\u001b[0m\u001b[0m\n\u001b[0;32m--> 347\u001b[0;31m             \u001b[0mself\u001b[0m\u001b[0;34m.\u001b[0m\u001b[0m_handle\u001b[0m \u001b[0;34m=\u001b[0m \u001b[0m_dlopen\u001b[0m\u001b[0;34m(\u001b[0m\u001b[0mself\u001b[0m\u001b[0;34m.\u001b[0m\u001b[0m_name\u001b[0m\u001b[0;34m,\u001b[0m \u001b[0mmode\u001b[0m\u001b[0;34m)\u001b[0m\u001b[0;34m\u001b[0m\u001b[0m\n\u001b[0m\u001b[1;32m    348\u001b[0m         \u001b[0;32melse\u001b[0m\u001b[0;34m:\u001b[0m\u001b[0;34m\u001b[0m\u001b[0m\n",
      "\u001b[0;31mOSError\u001b[0m: ('GL: cannot open shared object file: No such file or directory', 'GL', None)",
      "\nDuring handling of the above exception, another exception occurred:\n",
      "\u001b[0;31mImportError\u001b[0m                               Traceback (most recent call last)",
      "\u001b[0;32m<ipython-input-14-e7aa85494220>\u001b[0m in \u001b[0;36m<module>\u001b[0;34m()\u001b[0m\n\u001b[1;32m      4\u001b[0m \u001b[0;31m# -----------------------------------------------------------------------------\u001b[0m\u001b[0;34m\u001b[0m\u001b[0;34m\u001b[0m\u001b[0m\n\u001b[1;32m      5\u001b[0m \u001b[0;32mimport\u001b[0m \u001b[0mnumpy\u001b[0m \u001b[0;32mas\u001b[0m \u001b[0mnp\u001b[0m\u001b[0;34m\u001b[0m\u001b[0m\n\u001b[0;32m----> 6\u001b[0;31m \u001b[0;32mfrom\u001b[0m \u001b[0mglumpy\u001b[0m \u001b[0;32mimport\u001b[0m \u001b[0mapp\u001b[0m\u001b[0;34m,\u001b[0m \u001b[0mgloo\u001b[0m\u001b[0;34m,\u001b[0m \u001b[0mgl\u001b[0m\u001b[0;34m,\u001b[0m \u001b[0mdata\u001b[0m\u001b[0;34m\u001b[0m\u001b[0m\n\u001b[0m\u001b[1;32m      7\u001b[0m \u001b[0;32mfrom\u001b[0m \u001b[0mglumpy\u001b[0m\u001b[0;34m.\u001b[0m\u001b[0mtransforms\u001b[0m \u001b[0;32mimport\u001b[0m \u001b[0mTrackball\u001b[0m\u001b[0;34m,\u001b[0m \u001b[0mPosition\u001b[0m\u001b[0;34m\u001b[0m\u001b[0m\n",
      "\u001b[0;32m/usr/local/lib/python3.5/dist-packages/glumpy/__init__.py\u001b[0m in \u001b[0;36m<module>\u001b[0;34m()\u001b[0m\n\u001b[1;32m      5\u001b[0m \u001b[0m__version__\u001b[0m \u001b[0;34m=\u001b[0m \u001b[0;34m\"1.0.6\"\u001b[0m\u001b[0;34m\u001b[0m\u001b[0m\n\u001b[1;32m      6\u001b[0m \u001b[0;34m\u001b[0m\u001b[0m\n\u001b[0;32m----> 7\u001b[0;31m \u001b[0;32mfrom\u001b[0m \u001b[0;34m.\u001b[0m \u001b[0;32mimport\u001b[0m \u001b[0mapp\u001b[0m\u001b[0;34m\u001b[0m\u001b[0m\n\u001b[0m\u001b[1;32m      8\u001b[0m \u001b[0;32mfrom\u001b[0m \u001b[0;34m.\u001b[0m \u001b[0;32mimport\u001b[0m \u001b[0mapi\u001b[0m\u001b[0;34m\u001b[0m\u001b[0m\n\u001b[1;32m      9\u001b[0m \u001b[0;32mfrom\u001b[0m \u001b[0;34m.\u001b[0m \u001b[0;32mimport\u001b[0m \u001b[0mgloo\u001b[0m\u001b[0;34m\u001b[0m\u001b[0m\n",
      "\u001b[0;32m/usr/local/lib/python3.5/dist-packages/glumpy/app/__init__.py\u001b[0m in \u001b[0;36m<module>\u001b[0;34m()\u001b[0m\n\u001b[1;32m     12\u001b[0m \u001b[0;32mimport\u001b[0m \u001b[0mnumpy\u001b[0m \u001b[0;32mas\u001b[0m \u001b[0mnp\u001b[0m\u001b[0;34m\u001b[0m\u001b[0m\n\u001b[1;32m     13\u001b[0m \u001b[0;34m\u001b[0m\u001b[0m\n\u001b[0;32m---> 14\u001b[0;31m \u001b[0;32mfrom\u001b[0m \u001b[0mglumpy\u001b[0m \u001b[0;32mimport\u001b[0m \u001b[0mgl\u001b[0m\u001b[0;34m\u001b[0m\u001b[0m\n\u001b[0m\u001b[1;32m     15\u001b[0m \u001b[0;32mfrom\u001b[0m \u001b[0mglumpy\u001b[0m\u001b[0;34m.\u001b[0m\u001b[0mlog\u001b[0m \u001b[0;32mimport\u001b[0m \u001b[0mlog\u001b[0m\u001b[0;34m\u001b[0m\u001b[0m\n\u001b[1;32m     16\u001b[0m \u001b[0;32mfrom\u001b[0m \u001b[0mglumpy\u001b[0m\u001b[0;34m.\u001b[0m\u001b[0mext\u001b[0m\u001b[0;34m.\u001b[0m\u001b[0minputhook\u001b[0m \u001b[0;32mimport\u001b[0m \u001b[0minputhook_manager\u001b[0m\u001b[0;34m,\u001b[0m \u001b[0mstdin_ready\u001b[0m\u001b[0;34m\u001b[0m\u001b[0m\n",
      "\u001b[0;32m/usr/local/lib/python3.5/dist-packages/glumpy/gl.py\u001b[0m in \u001b[0;36m<module>\u001b[0;34m()\u001b[0m\n\u001b[1;32m     28\u001b[0m \u001b[0;34m\u001b[0m\u001b[0m\n\u001b[1;32m     29\u001b[0m \u001b[0;34m\u001b[0m\u001b[0m\n\u001b[0;32m---> 30\u001b[0;31m \u001b[0;32mfrom\u001b[0m \u001b[0mOpenGL\u001b[0m \u001b[0;32mimport\u001b[0m \u001b[0mcontextdata\u001b[0m\u001b[0;34m\u001b[0m\u001b[0m\n\u001b[0m\u001b[1;32m     31\u001b[0m \u001b[0;32mdef\u001b[0m \u001b[0mcleanupCallback\u001b[0m\u001b[0;34m(\u001b[0m \u001b[0mcontext\u001b[0m\u001b[0;34m=\u001b[0m\u001b[0;32mNone\u001b[0m \u001b[0;34m)\u001b[0m\u001b[0;34m:\u001b[0m\u001b[0;34m\u001b[0m\u001b[0m\n\u001b[1;32m     32\u001b[0m     \u001b[0;34m\"\"\"Create a cleanup callback to clear context-specific storage for the current context\"\"\"\u001b[0m\u001b[0;34m\u001b[0m\u001b[0m\n",
      "\u001b[0;32m/usr/local/lib/python3.5/dist-packages/OpenGL/contextdata.py\u001b[0m in \u001b[0;36m<module>\u001b[0;34m()\u001b[0m\n\u001b[1;32m     19\u001b[0m \u001b[0mbefore\u001b[0m \u001b[0mimporting\u001b[0m \u001b[0mOpenGL\u001b[0m \u001b[0mfunctionality\u001b[0m\u001b[0;34m.\u001b[0m\u001b[0;34m\u001b[0m\u001b[0m\n\u001b[1;32m     20\u001b[0m \"\"\"\n\u001b[0;32m---> 21\u001b[0;31m \u001b[0;32mfrom\u001b[0m \u001b[0mOpenGL\u001b[0m \u001b[0;32mimport\u001b[0m \u001b[0mplatform\u001b[0m\u001b[0;34m\u001b[0m\u001b[0m\n\u001b[0m\u001b[1;32m     22\u001b[0m \u001b[0;32mimport\u001b[0m \u001b[0mweakref\u001b[0m\u001b[0;34m\u001b[0m\u001b[0m\n\u001b[1;32m     23\u001b[0m storedPointers = {\n",
      "\u001b[0;32m/usr/local/lib/python3.5/dist-packages/OpenGL/platform/__init__.py\u001b[0m in \u001b[0;36m<module>\u001b[0;34m()\u001b[0m\n\u001b[1;32m     33\u001b[0m     \u001b[0;32mreturn\u001b[0m \u001b[0mplugin\u001b[0m\u001b[0;34m\u001b[0m\u001b[0m\n\u001b[1;32m     34\u001b[0m \u001b[0;34m\u001b[0m\u001b[0m\n\u001b[0;32m---> 35\u001b[0;31m \u001b[0m_load\u001b[0m\u001b[0;34m(\u001b[0m\u001b[0;34m)\u001b[0m\u001b[0;34m\u001b[0m\u001b[0m\n\u001b[0m\u001b[1;32m     36\u001b[0m \u001b[0;34m\u001b[0m\u001b[0m\n\u001b[1;32m     37\u001b[0m \u001b[0;32mdef\u001b[0m \u001b[0mtypes\u001b[0m\u001b[0;34m(\u001b[0m\u001b[0mresultType\u001b[0m\u001b[0;34m,\u001b[0m\u001b[0;34m*\u001b[0m\u001b[0margTypes\u001b[0m\u001b[0;34m)\u001b[0m\u001b[0;34m:\u001b[0m\u001b[0;34m\u001b[0m\u001b[0m\n",
      "\u001b[0;32m/usr/local/lib/python3.5/dist-packages/OpenGL/platform/__init__.py\u001b[0m in \u001b[0;36m_load\u001b[0;34m()\u001b[0m\n\u001b[1;32m     30\u001b[0m \u001b[0;34m\u001b[0m\u001b[0m\n\u001b[1;32m     31\u001b[0m     \u001b[0;31m# install into the platform module's namespace now\u001b[0m\u001b[0;34m\u001b[0m\u001b[0;34m\u001b[0m\u001b[0m\n\u001b[0;32m---> 32\u001b[0;31m     \u001b[0mplugin\u001b[0m\u001b[0;34m.\u001b[0m\u001b[0minstall\u001b[0m\u001b[0;34m(\u001b[0m\u001b[0mglobals\u001b[0m\u001b[0;34m(\u001b[0m\u001b[0;34m)\u001b[0m\u001b[0;34m)\u001b[0m\u001b[0;34m\u001b[0m\u001b[0m\n\u001b[0m\u001b[1;32m     33\u001b[0m     \u001b[0;32mreturn\u001b[0m \u001b[0mplugin\u001b[0m\u001b[0;34m\u001b[0m\u001b[0m\n\u001b[1;32m     34\u001b[0m \u001b[0;34m\u001b[0m\u001b[0m\n",
      "\u001b[0;32m/usr/local/lib/python3.5/dist-packages/OpenGL/platform/baseplatform.py\u001b[0m in \u001b[0;36minstall\u001b[0;34m(self, namespace)\u001b[0m\n\u001b[1;32m     90\u001b[0m         \u001b[0;34m\"\"\"Install this platform instance into the platform module\"\"\"\u001b[0m\u001b[0;34m\u001b[0m\u001b[0m\n\u001b[1;32m     91\u001b[0m         \u001b[0;32mfor\u001b[0m \u001b[0mname\u001b[0m \u001b[0;32min\u001b[0m \u001b[0mself\u001b[0m\u001b[0;34m.\u001b[0m\u001b[0mEXPORTED_NAMES\u001b[0m\u001b[0;34m:\u001b[0m\u001b[0;34m\u001b[0m\u001b[0m\n\u001b[0;32m---> 92\u001b[0;31m             \u001b[0mnamespace\u001b[0m\u001b[0;34m[\u001b[0m \u001b[0mname\u001b[0m \u001b[0;34m]\u001b[0m \u001b[0;34m=\u001b[0m \u001b[0mgetattr\u001b[0m\u001b[0;34m(\u001b[0m\u001b[0mself\u001b[0m\u001b[0;34m,\u001b[0m\u001b[0mname\u001b[0m\u001b[0;34m,\u001b[0m\u001b[0;32mNone\u001b[0m\u001b[0;34m)\u001b[0m\u001b[0;34m\u001b[0m\u001b[0m\n\u001b[0m\u001b[1;32m     93\u001b[0m         \u001b[0mnamespace\u001b[0m\u001b[0;34m[\u001b[0m\u001b[0;34m'PLATFORM'\u001b[0m\u001b[0;34m]\u001b[0m \u001b[0;34m=\u001b[0m \u001b[0mself\u001b[0m\u001b[0;34m\u001b[0m\u001b[0m\n\u001b[1;32m     94\u001b[0m         \u001b[0;32mreturn\u001b[0m \u001b[0mself\u001b[0m\u001b[0;34m\u001b[0m\u001b[0m\n",
      "\u001b[0;32m/usr/local/lib/python3.5/dist-packages/OpenGL/platform/baseplatform.py\u001b[0m in \u001b[0;36m__get__\u001b[0;34m(self, obj, cls)\u001b[0m\n\u001b[1;32m     12\u001b[0m         \u001b[0mself\u001b[0m\u001b[0;34m.\u001b[0m\u001b[0mfget\u001b[0m \u001b[0;34m=\u001b[0m \u001b[0mfunction\u001b[0m\u001b[0;34m\u001b[0m\u001b[0m\n\u001b[1;32m     13\u001b[0m     \u001b[0;32mdef\u001b[0m \u001b[0m__get__\u001b[0m\u001b[0;34m(\u001b[0m \u001b[0mself\u001b[0m\u001b[0;34m,\u001b[0m \u001b[0mobj\u001b[0m\u001b[0;34m,\u001b[0m \u001b[0mcls\u001b[0m \u001b[0;34m)\u001b[0m\u001b[0;34m:\u001b[0m\u001b[0;34m\u001b[0m\u001b[0m\n\u001b[0;32m---> 14\u001b[0;31m         \u001b[0mvalue\u001b[0m \u001b[0;34m=\u001b[0m \u001b[0mself\u001b[0m\u001b[0;34m.\u001b[0m\u001b[0mfget\u001b[0m\u001b[0;34m(\u001b[0m \u001b[0mobj\u001b[0m \u001b[0;34m)\u001b[0m\u001b[0;34m\u001b[0m\u001b[0m\n\u001b[0m\u001b[1;32m     15\u001b[0m         \u001b[0msetattr\u001b[0m\u001b[0;34m(\u001b[0m \u001b[0mobj\u001b[0m\u001b[0;34m,\u001b[0m \u001b[0mself\u001b[0m\u001b[0;34m.\u001b[0m\u001b[0mfget\u001b[0m\u001b[0;34m.\u001b[0m\u001b[0m__name__\u001b[0m\u001b[0;34m,\u001b[0m \u001b[0mvalue\u001b[0m\u001b[0;34m)\u001b[0m\u001b[0;34m\u001b[0m\u001b[0m\n\u001b[1;32m     16\u001b[0m         \u001b[0;32mreturn\u001b[0m \u001b[0mvalue\u001b[0m\u001b[0;34m\u001b[0m\u001b[0m\n",
      "\u001b[0;32m/usr/local/lib/python3.5/dist-packages/OpenGL/platform/glx.py\u001b[0m in \u001b[0;36mGetCurrentContext\u001b[0;34m(self)\u001b[0m\n\u001b[1;32m     94\u001b[0m     \u001b[0;34m@\u001b[0m\u001b[0mbaseplatform\u001b[0m\u001b[0;34m.\u001b[0m\u001b[0mlazy_property\u001b[0m\u001b[0;34m\u001b[0m\u001b[0m\n\u001b[1;32m     95\u001b[0m     \u001b[0;32mdef\u001b[0m \u001b[0mGetCurrentContext\u001b[0m\u001b[0;34m(\u001b[0m \u001b[0mself\u001b[0m \u001b[0;34m)\u001b[0m\u001b[0;34m:\u001b[0m\u001b[0;34m\u001b[0m\u001b[0m\n\u001b[0;32m---> 96\u001b[0;31m         \u001b[0;32mreturn\u001b[0m \u001b[0mself\u001b[0m\u001b[0;34m.\u001b[0m\u001b[0mGL\u001b[0m\u001b[0;34m.\u001b[0m\u001b[0mglXGetCurrentContext\u001b[0m\u001b[0;34m\u001b[0m\u001b[0m\n\u001b[0m\u001b[1;32m     97\u001b[0m \u001b[0;34m\u001b[0m\u001b[0m\n\u001b[1;32m     98\u001b[0m     \u001b[0;32mdef\u001b[0m \u001b[0mgetGLUTFontPointer\u001b[0m\u001b[0;34m(\u001b[0m \u001b[0mself\u001b[0m\u001b[0;34m,\u001b[0m \u001b[0mconstant\u001b[0m \u001b[0;34m)\u001b[0m\u001b[0;34m:\u001b[0m\u001b[0;34m\u001b[0m\u001b[0m\n",
      "\u001b[0;32m/usr/local/lib/python3.5/dist-packages/OpenGL/platform/baseplatform.py\u001b[0m in \u001b[0;36m__get__\u001b[0;34m(self, obj, cls)\u001b[0m\n\u001b[1;32m     12\u001b[0m         \u001b[0mself\u001b[0m\u001b[0;34m.\u001b[0m\u001b[0mfget\u001b[0m \u001b[0;34m=\u001b[0m \u001b[0mfunction\u001b[0m\u001b[0;34m\u001b[0m\u001b[0m\n\u001b[1;32m     13\u001b[0m     \u001b[0;32mdef\u001b[0m \u001b[0m__get__\u001b[0m\u001b[0;34m(\u001b[0m \u001b[0mself\u001b[0m\u001b[0;34m,\u001b[0m \u001b[0mobj\u001b[0m\u001b[0;34m,\u001b[0m \u001b[0mcls\u001b[0m \u001b[0;34m)\u001b[0m\u001b[0;34m:\u001b[0m\u001b[0;34m\u001b[0m\u001b[0m\n\u001b[0;32m---> 14\u001b[0;31m         \u001b[0mvalue\u001b[0m \u001b[0;34m=\u001b[0m \u001b[0mself\u001b[0m\u001b[0;34m.\u001b[0m\u001b[0mfget\u001b[0m\u001b[0;34m(\u001b[0m \u001b[0mobj\u001b[0m \u001b[0;34m)\u001b[0m\u001b[0;34m\u001b[0m\u001b[0m\n\u001b[0m\u001b[1;32m     15\u001b[0m         \u001b[0msetattr\u001b[0m\u001b[0;34m(\u001b[0m \u001b[0mobj\u001b[0m\u001b[0;34m,\u001b[0m \u001b[0mself\u001b[0m\u001b[0;34m.\u001b[0m\u001b[0mfget\u001b[0m\u001b[0;34m.\u001b[0m\u001b[0m__name__\u001b[0m\u001b[0;34m,\u001b[0m \u001b[0mvalue\u001b[0m\u001b[0;34m)\u001b[0m\u001b[0;34m\u001b[0m\u001b[0m\n\u001b[1;32m     16\u001b[0m         \u001b[0;32mreturn\u001b[0m \u001b[0mvalue\u001b[0m\u001b[0;34m\u001b[0m\u001b[0m\n",
      "\u001b[0;32m/usr/local/lib/python3.5/dist-packages/OpenGL/platform/glx.py\u001b[0m in \u001b[0;36mGL\u001b[0;34m(self)\u001b[0m\n\u001b[1;32m     18\u001b[0m             ) \n\u001b[1;32m     19\u001b[0m         \u001b[0;32mexcept\u001b[0m \u001b[0mOSError\u001b[0m \u001b[0;32mas\u001b[0m \u001b[0merr\u001b[0m\u001b[0;34m:\u001b[0m\u001b[0;34m\u001b[0m\u001b[0m\n\u001b[0;32m---> 20\u001b[0;31m             \u001b[0;32mraise\u001b[0m \u001b[0mImportError\u001b[0m\u001b[0;34m(\u001b[0m\u001b[0;34m\"Unable to load OpenGL library\"\u001b[0m\u001b[0;34m,\u001b[0m \u001b[0;34m*\u001b[0m\u001b[0merr\u001b[0m\u001b[0;34m.\u001b[0m\u001b[0margs\u001b[0m\u001b[0;34m)\u001b[0m\u001b[0;34m\u001b[0m\u001b[0m\n\u001b[0m\u001b[1;32m     21\u001b[0m     \u001b[0;34m@\u001b[0m\u001b[0mbaseplatform\u001b[0m\u001b[0;34m.\u001b[0m\u001b[0mlazy_property\u001b[0m\u001b[0;34m\u001b[0m\u001b[0m\n\u001b[1;32m     22\u001b[0m     \u001b[0;32mdef\u001b[0m \u001b[0mGLU\u001b[0m\u001b[0;34m(\u001b[0m\u001b[0mself\u001b[0m\u001b[0;34m)\u001b[0m\u001b[0;34m:\u001b[0m\u001b[0;34m\u001b[0m\u001b[0m\n",
      "\u001b[0;31mImportError\u001b[0m: ('Unable to load OpenGL library', 'GL: cannot open shared object file: No such file or directory', 'GL', None)"
     ]
    }
   ],
   "source": [
    "# -----------------------------------------------------------------------------\n",
    "# Copyright (c) 2009-2016 Nicolas P. Rougier. All rights reserved.\n",
    "# Distributed under the (new) BSD License.\n",
    "# -----------------------------------------------------------------------------\n",
    "import numpy as np\n",
    "from glumpy import app, gloo, gl, data\n",
    "from glumpy.transforms import Trackball, Position"
   ]
  },
  {
   "cell_type": "code",
   "execution_count": null,
   "metadata": {},
   "outputs": [],
   "source": [
    "vertex = \"\"\"\n",
    "    attribute vec3 position;\n",
    "    attribute vec3 texcoord;\n",
    "    varying vec3 v_texcoord;\n",
    "    void main()\n",
    "    {\n",
    "        gl_Position = <transform(position)> * vec4(-1,-1,1,1);\n",
    "        v_texcoord = texcoord;\n",
    "    }\n",
    "\"\"\"\n",
    "\n",
    "fragment = \"\"\"\n",
    "    uniform samplerCube texture;\n",
    "    varying vec3 v_texcoord;\n",
    "    void main()\n",
    "    {\n",
    "        gl_FragColor = textureCube(texture, v_texcoord);\n",
    "    }\n",
    "\"\"\"\n",
    "\n",
    "\n",
    "window = app.Window(width=1024, height=1024)\n",
    "\n",
    "@window.event\n",
    "def on_draw(dt):\n",
    "    window.clear()\n",
    "    program.draw(gl.GL_TRIANGLES, indices)\n",
    "\n",
    "@window.event\n",
    "def on_init():\n",
    "    gl.glEnable(gl.GL_DEPTH_TEST)\n",
    "\n",
    "vertices = np.array([[+1,+1,+1], [-1,+1,+1], [-1,-1,+1], [+1,-1,+1],\n",
    "                     [+1,-1,-1], [+1,+1,-1], [-1,+1,-1], [-1,-1,-1]])\n",
    "texcoords = np.array([[+1,+1,+1], [-1,+1,+1], [-1,-1,+1], [+1,-1,+1],\n",
    "                     [+1,-1,-1], [+1,+1,-1], [-1,+1,-1], [-1,-1,-1]])\n",
    "faces = np.array([vertices[i] for i in [0,1,2,3, 0,3,4,5, 0,5,6,1,\n",
    "                                        6,7,2,1, 7,4,3,2, 4,7,6,5]])\n",
    "indices = np.resize(np.array([0,1,2,0,2,3], dtype=np.uint32), 36)\n",
    "indices += np.repeat(4 * np.arange(6, dtype=np.uint32), 6)\n",
    "indices = indices.view(gloo.IndexBuffer)\n",
    "texture = np.zeros((6,1024,1024,3),dtype=np.float32).view(gloo.TextureCube)\n",
    "texture.interpolation = gl.GL_LINEAR\n",
    "program = gloo.Program(vertex, fragment, count=24)\n",
    "program['position'] = faces*10\n",
    "program['texcoord'] = faces\n",
    "program['texture'] = texture\n",
    "program['transform'] = Trackball(Position(), distance=0)\n",
    "\n",
    "texture[2] = data.get(\"sky-left.png\")/255.\n",
    "texture[3] = data.get(\"sky-right.png\")/255.\n",
    "texture[0] = data.get(\"sky-front.png\")/255.\n",
    "texture[1] = data.get(\"sky-back.png\")/255.\n",
    "texture[4] = data.get(\"sky-up.png\")/255.\n",
    "texture[5] = data.get(\"sky-down.png\")/255.\n",
    "window.attach(program[\"transform\"])\n",
    "app.run()"
   ]
  }
 ],
 "metadata": {
  "kernelspec": {
   "display_name": "Python 3",
   "language": "python",
   "name": "python3"
  },
  "language_info": {
   "codemirror_mode": {
    "name": "ipython",
    "version": 3
   },
   "file_extension": ".py",
   "mimetype": "text/x-python",
   "name": "python",
   "nbconvert_exporter": "python",
   "pygments_lexer": "ipython3",
   "version": "3.5.2"
  }
 },
 "nbformat": 4,
 "nbformat_minor": 2
}
